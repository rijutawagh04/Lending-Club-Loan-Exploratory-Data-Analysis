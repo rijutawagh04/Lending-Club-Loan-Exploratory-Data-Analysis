{
 "cells": [
  {
   "cell_type": "code",
   "execution_count": 1,
   "metadata": {
    "collapsed": false
   },
   "outputs": [
    {
     "name": "stdout",
     "output_type": "stream",
     "text": [
      "C:\\Users\\mahesh\\Desktop\\Data analysis spring 2017\\Data_Analysis_FinalProject\n",
      ".\\data\n"
     ]
    }
   ],
   "source": [
    "# Import the libraries we use.\n",
    "from bs4 import BeautifulSoup as bsoup\n",
    "import datetime\n",
    "import glob\n",
    "import io\n",
    "import matplotlib.pyplot as plt\n",
    "import numpy as np\n",
    "import os\n",
    "import pandas as pd\n",
    "import re\n",
    "import requests\n",
    "import time\n",
    "import urllib.request\n",
    "from urllib.request import urlopen\n",
    "import zipfile\n",
    "\n",
    "# Save the initial working directory.\n",
    "start_directory = os.getcwd()\n",
    "print(start_directory)\n",
    "\n",
    "# Create the path to the data directory.\n",
    "data_directory = os.path.join('.', 'data')\n",
    "print(data_directory)"
   ]
  },
  {
   "cell_type": "code",
   "execution_count": 2,
   "metadata": {
    "collapsed": false
   },
   "outputs": [
    {
     "name": "stdout",
     "output_type": "stream",
     "text": [
      "200\n"
     ]
    }
   ],
   "source": [
    "site = \"https://www.lendingclub.com/info/download-data.action\"\n",
    "#print(site)\n",
    "\n",
    "response = requests.get(site)\n",
    "response.raise_for_status()\n",
    "print(response.status_code)\n",
    "\n",
    "content = response.content\n",
    "#print(content[0:200])\n",
    "\n",
    "try:\n",
    "    response.raise_for_status()\n",
    "except Exception as exc:\n",
    "    print('There was a problem: %s' % (exc))"
   ]
  },
  {
   "cell_type": "code",
   "execution_count": 3,
   "metadata": {
    "collapsed": false
   },
   "outputs": [
    {
     "name": "stderr",
     "output_type": "stream",
     "text": [
      "C:\\Users\\mahesh\\Miniconda3\\lib\\site-packages\\bs4\\__init__.py:181: UserWarning: No parser was explicitly specified, so I'm using the best available HTML parser for this system (\"html.parser\"). This usually isn't a problem, but if you run this code on another system, or in a different virtual environment, it may use a different parser and behave differently.\n",
      "\n",
      "The code that caused this warning is on line 184 of the file C:\\Users\\mahesh\\Miniconda3\\lib\\runpy.py. To get rid of this warning, change code that looks like this:\n",
      "\n",
      " BeautifulSoup([your markup])\n",
      "\n",
      "to this:\n",
      "\n",
      " BeautifulSoup([your markup], \"html.parser\")\n",
      "\n",
      "  markup_type=markup_type))\n"
     ]
    },
    {
     "name": "stdout",
     "output_type": "stream",
     "text": [
      "Downloading file .\\LoanStats3a.csv\n",
      "Downloading file .\\LoanStats3b.csv\n",
      "Downloading file .\\LoanStats3c.csv\n",
      "Downloading file .\\LoanStats3d.csv\n",
      "Downloading file .\\LoanStats_2016Q1.csv\n",
      "Downloading file .\\LoanStats_2016Q2.csv\n",
      "Downloading file .\\LoanStats_2016Q3.csv\n",
      "Downloading file .\\LoanStats_2016Q4.csv\n"
     ]
    }
   ],
   "source": [
    "base_URL = \"https://resources.lendingclub.com\"\n",
    "url = urllib.request.urlopen(\"https://www.lendingclub.com/info/download-data.action\")\n",
    "content = url.read()\n",
    "#print(content)\n",
    "\n",
    "soup = bsoup(content, 'html')\n",
    "#print(soup) \n",
    "\n",
    "#loanStatsFileNamesJS\n",
    "fileNameDiv = soup.find('div', {\"id\":\"loanStatsFileNamesJS\"})\n",
    "loanFileList = fileNameDiv.text.rstrip(\"|\") \n",
    "#print(FileList)\n",
    "\n",
    "# Set the data directory as the current working directory for the downloads.\n",
    "os.chdir(data_directory)\n",
    "\n",
    "# Download and extract all the data files.\n",
    "for fileName in loanFileList.split(\"|\"):\n",
    "    #print(fileName)\n",
    "    \n",
    "    csv_filename = fileName\n",
    "    if csv_filename.endswith('.zip'):\n",
    "        csv_filename = csv_filename[:-4]\n",
    "        \n",
    "    csv_filepath = os.path.join('.', csv_filename)\n",
    "    #print(csv_filepath)\n",
    "    \n",
    "    # Download the file if it isn't already in our data directory.\n",
    "    if os.path.exists(csv_filepath):\n",
    "        print(\"Already downloaded %s\" % csv_filepath)\n",
    "    else:\n",
    "        print(\"Downloading file %s\" % csv_filepath)\n",
    "        file_URL = base_URL + '/' + fileName\n",
    "        #print(file_URL)\n",
    "        \n",
    "        zfile = requests.get(file_URL)\n",
    "        z = zipfile.ZipFile(io.BytesIO(zfile.content))\n",
    "        z.extractall()\n",
    "\n",
    "# Restore the working directory\n",
    "os.chdir(start_directory)"
   ]
  },
  {
   "cell_type": "code",
   "execution_count": 4,
   "metadata": {
    "collapsed": false
   },
   "outputs": [
    {
     "name": "stderr",
     "output_type": "stream",
     "text": [
      "C:\\Users\\mahesh\\Miniconda3\\lib\\site-packages\\IPython\\core\\interactiveshell.py:2717: DtypeWarning: Columns (0,47) have mixed types. Specify dtype option on import or set low_memory=False.\n",
      "  interactivity=interactivity, compiler=compiler, result=result)\n"
     ]
    },
    {
     "data": {
      "text/html": [
       "<div>\n",
       "<table border=\"1\" class=\"dataframe\">\n",
       "  <thead>\n",
       "    <tr style=\"text-align: right;\">\n",
       "      <th></th>\n",
       "      <th>id</th>\n",
       "      <th>member_id</th>\n",
       "      <th>loan_amnt</th>\n",
       "      <th>funded_amnt</th>\n",
       "      <th>funded_amnt_inv</th>\n",
       "      <th>term</th>\n",
       "      <th>int_rate</th>\n",
       "      <th>installment</th>\n",
       "      <th>grade</th>\n",
       "      <th>sub_grade</th>\n",
       "      <th>...</th>\n",
       "      <th>num_tl_90g_dpd_24m</th>\n",
       "      <th>num_tl_op_past_12m</th>\n",
       "      <th>pct_tl_nvr_dlq</th>\n",
       "      <th>percent_bc_gt_75</th>\n",
       "      <th>pub_rec_bankruptcies</th>\n",
       "      <th>tax_liens</th>\n",
       "      <th>tot_hi_cred_lim</th>\n",
       "      <th>total_bal_ex_mort</th>\n",
       "      <th>total_bc_limit</th>\n",
       "      <th>total_il_high_credit_limit</th>\n",
       "    </tr>\n",
       "  </thead>\n",
       "  <tbody>\n",
       "    <tr>\n",
       "      <th>0</th>\n",
       "      <td>NaN</td>\n",
       "      <td>NaN</td>\n",
       "      <td>5000.0</td>\n",
       "      <td>5000.0</td>\n",
       "      <td>4975.0</td>\n",
       "      <td>36 months</td>\n",
       "      <td>10.65%</td>\n",
       "      <td>162.87</td>\n",
       "      <td>B</td>\n",
       "      <td>B2</td>\n",
       "      <td>...</td>\n",
       "      <td>NaN</td>\n",
       "      <td>NaN</td>\n",
       "      <td>NaN</td>\n",
       "      <td>NaN</td>\n",
       "      <td>0.0</td>\n",
       "      <td>0.0</td>\n",
       "      <td>NaN</td>\n",
       "      <td>NaN</td>\n",
       "      <td>NaN</td>\n",
       "      <td>NaN</td>\n",
       "    </tr>\n",
       "    <tr>\n",
       "      <th>1</th>\n",
       "      <td>NaN</td>\n",
       "      <td>NaN</td>\n",
       "      <td>2500.0</td>\n",
       "      <td>2500.0</td>\n",
       "      <td>2500.0</td>\n",
       "      <td>60 months</td>\n",
       "      <td>15.27%</td>\n",
       "      <td>59.83</td>\n",
       "      <td>C</td>\n",
       "      <td>C4</td>\n",
       "      <td>...</td>\n",
       "      <td>NaN</td>\n",
       "      <td>NaN</td>\n",
       "      <td>NaN</td>\n",
       "      <td>NaN</td>\n",
       "      <td>0.0</td>\n",
       "      <td>0.0</td>\n",
       "      <td>NaN</td>\n",
       "      <td>NaN</td>\n",
       "      <td>NaN</td>\n",
       "      <td>NaN</td>\n",
       "    </tr>\n",
       "    <tr>\n",
       "      <th>2</th>\n",
       "      <td>NaN</td>\n",
       "      <td>NaN</td>\n",
       "      <td>2400.0</td>\n",
       "      <td>2400.0</td>\n",
       "      <td>2400.0</td>\n",
       "      <td>36 months</td>\n",
       "      <td>15.96%</td>\n",
       "      <td>84.33</td>\n",
       "      <td>C</td>\n",
       "      <td>C5</td>\n",
       "      <td>...</td>\n",
       "      <td>NaN</td>\n",
       "      <td>NaN</td>\n",
       "      <td>NaN</td>\n",
       "      <td>NaN</td>\n",
       "      <td>0.0</td>\n",
       "      <td>0.0</td>\n",
       "      <td>NaN</td>\n",
       "      <td>NaN</td>\n",
       "      <td>NaN</td>\n",
       "      <td>NaN</td>\n",
       "    </tr>\n",
       "    <tr>\n",
       "      <th>3</th>\n",
       "      <td>NaN</td>\n",
       "      <td>NaN</td>\n",
       "      <td>10000.0</td>\n",
       "      <td>10000.0</td>\n",
       "      <td>10000.0</td>\n",
       "      <td>36 months</td>\n",
       "      <td>13.49%</td>\n",
       "      <td>339.31</td>\n",
       "      <td>C</td>\n",
       "      <td>C1</td>\n",
       "      <td>...</td>\n",
       "      <td>NaN</td>\n",
       "      <td>NaN</td>\n",
       "      <td>NaN</td>\n",
       "      <td>NaN</td>\n",
       "      <td>0.0</td>\n",
       "      <td>0.0</td>\n",
       "      <td>NaN</td>\n",
       "      <td>NaN</td>\n",
       "      <td>NaN</td>\n",
       "      <td>NaN</td>\n",
       "    </tr>\n",
       "    <tr>\n",
       "      <th>4</th>\n",
       "      <td>NaN</td>\n",
       "      <td>NaN</td>\n",
       "      <td>3000.0</td>\n",
       "      <td>3000.0</td>\n",
       "      <td>3000.0</td>\n",
       "      <td>60 months</td>\n",
       "      <td>12.69%</td>\n",
       "      <td>67.79</td>\n",
       "      <td>B</td>\n",
       "      <td>B5</td>\n",
       "      <td>...</td>\n",
       "      <td>NaN</td>\n",
       "      <td>NaN</td>\n",
       "      <td>NaN</td>\n",
       "      <td>NaN</td>\n",
       "      <td>0.0</td>\n",
       "      <td>0.0</td>\n",
       "      <td>NaN</td>\n",
       "      <td>NaN</td>\n",
       "      <td>NaN</td>\n",
       "      <td>NaN</td>\n",
       "    </tr>\n",
       "  </tbody>\n",
       "</table>\n",
       "<p>5 rows × 111 columns</p>\n",
       "</div>"
      ],
      "text/plain": [
       "    id  member_id  loan_amnt  funded_amnt  funded_amnt_inv        term  \\\n",
       "0  NaN        NaN     5000.0       5000.0           4975.0   36 months   \n",
       "1  NaN        NaN     2500.0       2500.0           2500.0   60 months   \n",
       "2  NaN        NaN     2400.0       2400.0           2400.0   36 months   \n",
       "3  NaN        NaN    10000.0      10000.0          10000.0   36 months   \n",
       "4  NaN        NaN     3000.0       3000.0           3000.0   60 months   \n",
       "\n",
       "  int_rate  installment grade sub_grade            ...              \\\n",
       "0   10.65%       162.87     B        B2            ...               \n",
       "1   15.27%        59.83     C        C4            ...               \n",
       "2   15.96%        84.33     C        C5            ...               \n",
       "3   13.49%       339.31     C        C1            ...               \n",
       "4   12.69%        67.79     B        B5            ...               \n",
       "\n",
       "  num_tl_90g_dpd_24m num_tl_op_past_12m pct_tl_nvr_dlq  percent_bc_gt_75  \\\n",
       "0                NaN                NaN            NaN               NaN   \n",
       "1                NaN                NaN            NaN               NaN   \n",
       "2                NaN                NaN            NaN               NaN   \n",
       "3                NaN                NaN            NaN               NaN   \n",
       "4                NaN                NaN            NaN               NaN   \n",
       "\n",
       "  pub_rec_bankruptcies tax_liens tot_hi_cred_lim total_bal_ex_mort  \\\n",
       "0                  0.0       0.0             NaN               NaN   \n",
       "1                  0.0       0.0             NaN               NaN   \n",
       "2                  0.0       0.0             NaN               NaN   \n",
       "3                  0.0       0.0             NaN               NaN   \n",
       "4                  0.0       0.0             NaN               NaN   \n",
       "\n",
       "   total_bc_limit total_il_high_credit_limit  \n",
       "0             NaN                        NaN  \n",
       "1             NaN                        NaN  \n",
       "2             NaN                        NaN  \n",
       "3             NaN                        NaN  \n",
       "4             NaN                        NaN  \n",
       "\n",
       "[5 rows x 111 columns]"
      ]
     },
     "execution_count": 4,
     "metadata": {},
     "output_type": "execute_result"
    }
   ],
   "source": [
    "sample_filepath = os.path.join(data_directory, 'LoanStats3a.csv')\n",
    "data = pd.read_csv(sample_filepath, skiprows=1)\n",
    "data.head()"
   ]
  },
  {
   "cell_type": "code",
   "execution_count": 5,
   "metadata": {
    "collapsed": false
   },
   "outputs": [
    {
     "data": {
      "text/plain": [
       "(42538, 111)"
      ]
     },
     "execution_count": 5,
     "metadata": {},
     "output_type": "execute_result"
    }
   ],
   "source": [
    "data.shape\n"
   ]
  },
  {
   "cell_type": "code",
   "execution_count": 6,
   "metadata": {
    "collapsed": true
   },
   "outputs": [],
   "source": [
    "def concatenate(indir=\"./\", outfilename=\"./Accepted_LoanData.csv\"):\n",
    "    initial_working_dir = os.getcwd()\n",
    "    os.chdir(indir)\n",
    "    \n",
    "    csvFileList = glob.glob(\"*.csv\")\n",
    "    dfList = []\n",
    "   \n",
    "    # Process the CSV files, without the initial line.\n",
    "    for csv_filename in csvFileList:\n",
    "        print(csv_filename)\n",
    "        \n",
    "        # Use the file modification time to track when the data was downloaded.\n",
    "        timestamp = int(os.path.getmtime(csv_filename))\n",
    "        #print(\"last modified: %s\" % str(timestamp))\n",
    "        \n",
    "        df = pd.read_csv(csv_filename, low_memory=False, skiprows=1)\n",
    "        \n",
    "        # Add the timestamp into the data.\n",
    "        df['timestamp'] = timestamp\n",
    "        print(df.shape)\n",
    "        \n",
    "        dfList.append(df)\n",
    "        \n",
    "    concatDf = pd.concat(dfList, axis=0, copy=False)\n",
    "    #concatDf.columns = columns\n",
    "    concatDf.to_csv(outfilename, index=None)\n",
    "    print(concatDf.shape)\n",
    "    \n",
    "    # Restore the working directory.\n",
    "    os.chdir(initial_working_dir)"
   ]
  },
  {
   "cell_type": "code",
   "execution_count": 7,
   "metadata": {
    "collapsed": false
   },
   "outputs": [
    {
     "name": "stdout",
     "output_type": "stream",
     "text": [
      "LoanStats3a.csv\n",
      "(42538, 112)\n",
      "LoanStats3b.csv\n",
      "(188183, 112)\n",
      "LoanStats3c.csv\n",
      "(235631, 112)\n",
      "LoanStats3d.csv\n",
      "(421097, 112)\n",
      "LoanStats_2016Q1.csv\n",
      "(133889, 112)\n",
      "LoanStats_2016Q2.csv\n",
      "(97856, 112)\n",
      "LoanStats_2016Q3.csv\n",
      "(99122, 112)\n",
      "LoanStats_2016Q4.csv\n",
      "(103548, 112)\n",
      "(1321864, 112)\n"
     ]
    }
   ],
   "source": [
    "concatenate(indir=data_directory)"
   ]
  },
  {
   "cell_type": "code",
   "execution_count": null,
   "metadata": {
    "collapsed": true
   },
   "outputs": [],
   "source": []
  }
 ],
 "metadata": {
  "kernelspec": {
   "display_name": "Python 3",
   "language": "python",
   "name": "python3"
  },
  "language_info": {
   "codemirror_mode": {
    "name": "ipython",
    "version": 3
   },
   "file_extension": ".py",
   "mimetype": "text/x-python",
   "name": "python",
   "nbconvert_exporter": "python",
   "pygments_lexer": "ipython3",
   "version": "3.5.2"
  }
 },
 "nbformat": 4,
 "nbformat_minor": 2
}
